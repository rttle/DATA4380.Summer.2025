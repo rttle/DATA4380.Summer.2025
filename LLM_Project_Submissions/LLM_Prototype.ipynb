{
 "cells": [
  {
   "cell_type": "code",
   "execution_count": 19,
   "metadata": {},
   "outputs": [
    {
     "name": "stderr",
     "output_type": "stream",
     "text": [
      "/Users/Temp/Data4380/.venv/lib/python3.9/site-packages/urllib3/__init__.py:35: NotOpenSSLWarning: urllib3 v2 only supports OpenSSL 1.1.1+, currently the 'ssl' module is compiled with 'LibreSSL 2.8.3'. See: https://github.com/urllib3/urllib3/issues/3020\n",
      "  warnings.warn(\n"
     ]
    }
   ],
   "source": [
    "import openai\n",
    "import os\n",
    "import pandas as pd\n",
    "import time\n",
    "import json\n",
    "import requests"
   ]
  },
  {
   "cell_type": "code",
   "execution_count": null,
   "metadata": {},
   "outputs": [],
   "source": [
    "#importing module that wraps preprocessing steps\n",
    "import LLM_Preprocessing as llmp"
   ]
  },
  {
   "cell_type": "code",
   "execution_count": null,
   "metadata": {},
   "outputs": [],
   "source": [
    "#reimport if necessary (edit file after already imported)\n",
    "import importlib\n",
    "importlib.reload(llmp)"
   ]
  },
  {
   "cell_type": "code",
   "execution_count": null,
   "metadata": {},
   "outputs": [],
   "source": [
    "#loading grouped dataset\n",
    "df=llmp.llm_preprocessing('meta_Clothing_Shoes_and_Jewelry.jsonl.gz','Clothing_Shoes_and_Jewelry.jsonl.gz')"
   ]
  },
  {
   "cell_type": "code",
   "execution_count": 5,
   "metadata": {},
   "outputs": [
    {
     "name": "stderr",
     "output_type": "stream",
     "text": [
      "/var/folders/rs/56dc52116fdc6_zgn1vcs_fr0000gp/T/ipykernel_35204/3890872948.py:2: DtypeWarning: Columns (0,10) have mixed types. Specify dtype option on import or set low_memory=False.\n",
      "  df=pd.read_csv('amazon_watch_reviews.csv')\n"
     ]
    }
   ],
   "source": [
    "#grouping dataset if you have already created csv file and do not want to rerun preprocessing steps\n",
    "df=pd.read_csv('amazon_watch_reviews.csv')\n",
    "df=df.groupby(\"meta_title\")[\"review_text\"].apply(list).reset_index()"
   ]
  },
  {
   "cell_type": "code",
   "execution_count": 16,
   "metadata": {},
   "outputs": [
    {
     "name": "stdout",
     "output_type": "stream",
     "text": [
      "Error: Error code: 404 - {'error': {'message': 'The model `gpt-4-1106-preview` does not exist or you do not have access to it.', 'type': 'invalid_request_error', 'param': None, 'code': 'model_not_found'}}\n"
     ]
    }
   ],
   "source": [
    "client=openai.OpenAI(api_key='REDACTED INSERT YOUR OWN API KEY HERE')\n",
    "\n",
    "#function to call GPT-4.5\n",
    "def get_pros_cons(reviews):\n",
    "    prompt=f\"\"\"Here are customer reviews for a watch:\\n\\n{reviews}\\n\\nPlease extract a list of PROS and CONS from the reviews.\n",
    "\n",
    "Format:\n",
    "Pros:\n",
    "- ...\n",
    "Cons:\n",
    "- ...\"\"\"\n",
    "\n",
    "    try:\n",
    "        response=client.chat.completions.create(\n",
    "            model=\"gpt-4-1106-preview\", #only version of gpt-4 I could run successfully\n",
    "            messages=[\n",
    "                {\"role\": \"system\", \"content\": \"You summarize reviews into pros and cons lists.\"},\n",
    "                {\"role\": \"user\", \"content\": prompt}\n",
    "            ],\n",
    "            temperature=0.7,\n",
    "            max_tokens=400\n",
    "        )\n",
    "        return response.choices[0].message.content\n",
    "    except Exception as e:\n",
    "        print(\"Error:\", e)\n",
    "        return None\n",
    "\n",
    "#sample (e.g. first 100)\n",
    "sample_grouped=df.head(100).copy()\n",
    "\n",
    "results=[]\n",
    "for i, row in sample_grouped.iterrows():\n",
    "    output=get_pros_cons(row['review_text'])\n",
    "    results.append(output)\n",
    "    time.sleep(1.1) \n",
    "\n",
    "sample_grouped[\"pros_cons\"]=results\n",
    "\n",
    "#save the results; jsonl file with formating that will work with OpenAI fine tuning\n",
    "with open(\"labeled_watch_reviews.jsonl\", \"w\") as f:\n",
    "    for _, row in sample_grouped.iterrows():\n",
    "        if row[\"pros_cons\"]:\n",
    "            json_record = {\n",
    "                \"messages\": [\n",
    "                    {\"role\": \"system\", \"content\": \"You summarize customer reviews into pros and cons lists.\"},\n",
    "                    {\"role\": \"user\", \"content\": row[\"meta_title\"]},\n",
    "                    {\"role\": \"assistant\", \"content\": row[\"pros_cons\"]}\n",
    "                ]\n",
    "            }\n",
    "            f.write(json.dumps(json_record) + \"\\n\")\n"
   ]
  },
  {
   "cell_type": "code",
   "execution_count": 26,
   "metadata": {},
   "outputs": [
    {
     "data": {
      "text/html": [
       "<div>\n",
       "<style scoped>\n",
       "    .dataframe tbody tr th:only-of-type {\n",
       "        vertical-align: middle;\n",
       "    }\n",
       "\n",
       "    .dataframe tbody tr th {\n",
       "        vertical-align: top;\n",
       "    }\n",
       "\n",
       "    .dataframe thead th {\n",
       "        text-align: right;\n",
       "    }\n",
       "</style>\n",
       "<table border=\"1\" class=\"dataframe\">\n",
       "  <thead>\n",
       "    <tr style=\"text-align: right;\">\n",
       "      <th></th>\n",
       "      <th>meta_title</th>\n",
       "      <th>review_text</th>\n",
       "      <th>pros_cons</th>\n",
       "    </tr>\n",
       "  </thead>\n",
       "  <tbody>\n",
       "    <tr>\n",
       "      <th>0</th>\n",
       "      <td>!!! STACKER SALE !!! 50% OFF !!! LAST CHANCE T...</td>\n",
       "      <td>[I like this product a lot.  I have about 5 tr...</td>\n",
       "      <td>Pros:\\n- Attractive design\\n- Sturdy construct...</td>\n",
       "    </tr>\n",
       "    <tr>\n",
       "      <th>1</th>\n",
       "      <td>\"A Promise Made\" Vintage Inspired Jewelry Book...</td>\n",
       "      <td>[I bought this for my best friend for her wedd...</td>\n",
       "      <td>Pros:\\n- Perfect for vintage-themed weddings, ...</td>\n",
       "    </tr>\n",
       "    <tr>\n",
       "      <th>2</th>\n",
       "      <td>\"Courtney\" Mele &amp; Co. Girl's Musical Ballerina...</td>\n",
       "      <td>[This is really cute.  The drawer opens at bot...</td>\n",
       "      <td>Pros:\\n- Attractive design with a cute feature...</td>\n",
       "    </tr>\n",
       "    <tr>\n",
       "      <th>3</th>\n",
       "      <td>\"DESPICABLE ME\" PURPLE BAND WATCH. Minion Wris...</td>\n",
       "      <td>[Cutest watch ever , bought for myself, little...</td>\n",
       "      <td>Pros:\\n- Cute design\\n- Liked by the purchaser...</td>\n",
       "    </tr>\n",
       "    <tr>\n",
       "      <th>4</th>\n",
       "      <td>\"Genevieve\" Wood Jewelry Box</td>\n",
       "      <td>[It looks fantastic and yet is still functiona...</td>\n",
       "      <td>Pros:\\n- The watch has a fantastic look while ...</td>\n",
       "    </tr>\n",
       "  </tbody>\n",
       "</table>\n",
       "</div>"
      ],
      "text/plain": [
       "                                          meta_title  \\\n",
       "0  !!! STACKER SALE !!! 50% OFF !!! LAST CHANCE T...   \n",
       "1  \"A Promise Made\" Vintage Inspired Jewelry Book...   \n",
       "2  \"Courtney\" Mele & Co. Girl's Musical Ballerina...   \n",
       "3  \"DESPICABLE ME\" PURPLE BAND WATCH. Minion Wris...   \n",
       "4                       \"Genevieve\" Wood Jewelry Box   \n",
       "\n",
       "                                         review_text  \\\n",
       "0  [I like this product a lot.  I have about 5 tr...   \n",
       "1  [I bought this for my best friend for her wedd...   \n",
       "2  [This is really cute.  The drawer opens at bot...   \n",
       "3  [Cutest watch ever , bought for myself, little...   \n",
       "4  [It looks fantastic and yet is still functiona...   \n",
       "\n",
       "                                           pros_cons  \n",
       "0  Pros:\\n- Attractive design\\n- Sturdy construct...  \n",
       "1  Pros:\\n- Perfect for vintage-themed weddings, ...  \n",
       "2  Pros:\\n- Attractive design with a cute feature...  \n",
       "3  Pros:\\n- Cute design\\n- Liked by the purchaser...  \n",
       "4  Pros:\\n- The watch has a fantastic look while ...  "
      ]
     },
     "execution_count": 26,
     "metadata": {},
     "output_type": "execute_result"
    }
   ],
   "source": [
    "sample_grouped.head()"
   ]
  },
  {
   "cell_type": "code",
   "execution_count": 23,
   "metadata": {},
   "outputs": [
    {
     "name": "stdout",
     "output_type": "stream",
     "text": [
      "1.97.1\n"
     ]
    }
   ],
   "source": [
    "print(openai.__version__)"
   ]
  },
  {
   "cell_type": "markdown",
   "metadata": {},
   "source": [
    "## Fine Tuning GPT-3.5\n",
    "* Originally tried to do fine tuning in python environment; failed due to fine tuning not available for version of OpenAI API I am using (1.97.1)\n",
    "* Switched to using the web option\n",
    "    * Same concept, just using user friendly UI on website instead of assigning values through variables using python (batches, learning rate, epochs)"
   ]
  },
  {
   "cell_type": "markdown",
   "metadata": {},
   "source": [
    "#### First Attempt\n",
    "* Uses the prepared 100 samples that has labels (pros and cons list) generated by GPT-4.5\n",
    "* Model = GPT 3.5 Turbo 1106\n",
    "* Hyperparameters\n",
    "    * Batches = 10\n",
    "    * Learning Rate = 0.0001\n",
    "    * Epochs = 10\n",
    "* No validation file prepared for this test\n",
    "\n",
    "Results\n",
    "* Loss function looks like a heart rate ECG reading\n",
    "* Accuracy values flucuated betweem 0.45 and 0.55\n",
    "* Unsurprising that this model is doing so bad using a dataset of only 100\n",
    "    * Also doing bad because lack of review text means model is just guessing at what the pros and cons are, will address this in next attempt"
   ]
  },
  {
   "cell_type": "code",
   "execution_count": null,
   "metadata": {},
   "outputs": [],
   "source": []
  }
 ],
 "metadata": {
  "kernelspec": {
   "display_name": ".venv",
   "language": "python",
   "name": "python3"
  },
  "language_info": {
   "codemirror_mode": {
    "name": "ipython",
    "version": 3
   },
   "file_extension": ".py",
   "mimetype": "text/x-python",
   "name": "python",
   "nbconvert_exporter": "python",
   "pygments_lexer": "ipython3",
   "version": "3.9.6"
  }
 },
 "nbformat": 4,
 "nbformat_minor": 2
}
