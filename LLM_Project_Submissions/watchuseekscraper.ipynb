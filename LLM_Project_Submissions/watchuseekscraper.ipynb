{
 "cells": [
  {
   "cell_type": "code",
   "execution_count": 12,
   "metadata": {},
   "outputs": [],
   "source": [
    "from selenium import webdriver\n",
    "from selenium.webdriver.chrome.options import Options\n",
    "from selenium.webdriver.common.by import By\n",
    "from selenium.webdriver.support.ui import WebDriverWait\n",
    "from selenium.webdriver.support import expected_conditions as EC\n",
    "import undetected_chromedriver as uc\n",
    "import time\n",
    "import csv\n",
    "import os"
   ]
  },
  {
   "cell_type": "code",
   "execution_count": 3,
   "metadata": {},
   "outputs": [
    {
     "ename": "TimeoutException",
     "evalue": "Message: \nStacktrace:\n0   chromedriver                        0x0000000100af755c cxxbridge1$str$ptr + 2731064\n1   chromedriver                        0x0000000100aef454 cxxbridge1$str$ptr + 2698032\n2   chromedriver                        0x000000010063e3f8 cxxbridge1$string$len + 90664\n3   chromedriver                        0x000000010068571c cxxbridge1$string$len + 382284\n4   chromedriver                        0x00000001006c6b1c cxxbridge1$string$len + 649548\n5   chromedriver                        0x0000000100679a0c cxxbridge1$string$len + 333884\n6   chromedriver                        0x0000000100aba5e0 cxxbridge1$str$ptr + 2481340\n7   chromedriver                        0x0000000100abd848 cxxbridge1$str$ptr + 2494244\n8   chromedriver                        0x0000000100a9b234 cxxbridge1$str$ptr + 2353424\n9   chromedriver                        0x0000000100abe104 cxxbridge1$str$ptr + 2496480\n10  chromedriver                        0x0000000100a8c2e4 cxxbridge1$str$ptr + 2292160\n11  chromedriver                        0x0000000100addff8 cxxbridge1$str$ptr + 2627284\n12  chromedriver                        0x0000000100ade184 cxxbridge1$str$ptr + 2627680\n13  chromedriver                        0x0000000100aef090 cxxbridge1$str$ptr + 2697068\n14  libsystem_pthread.dylib             0x0000000191615f94 _pthread_start + 136\n15  libsystem_pthread.dylib             0x0000000191610d34 thread_start + 8\n",
     "output_type": "error",
     "traceback": [
      "\u001b[0;31m---------------------------------------------------------------------------\u001b[0m",
      "\u001b[0;31mTimeoutException\u001b[0m                          Traceback (most recent call last)",
      "Cell \u001b[0;32mIn[3], line 9\u001b[0m\n\u001b[1;32m      6\u001b[0m driver \u001b[38;5;241m=\u001b[39m webdriver\u001b[38;5;241m.\u001b[39mChrome(options\u001b[38;5;241m=\u001b[39moptions)\n\u001b[1;32m      8\u001b[0m driver\u001b[38;5;241m.\u001b[39mget(\u001b[38;5;124m\"\u001b[39m\u001b[38;5;124mhttps://www.watchuseek.com/threads/a-review-of-a-new-oceaneva-deep-marine-explorer-vi.5635925/\u001b[39m\u001b[38;5;124m\"\u001b[39m)\n\u001b[0;32m----> 9\u001b[0m \u001b[43mWebDriverWait\u001b[49m\u001b[43m(\u001b[49m\u001b[43mdriver\u001b[49m\u001b[43m,\u001b[49m\u001b[43m \u001b[49m\u001b[38;5;241;43m10\u001b[39;49m\u001b[43m)\u001b[49m\u001b[38;5;241;43m.\u001b[39;49m\u001b[43muntil\u001b[49m\u001b[43m(\u001b[49m\n\u001b[1;32m     10\u001b[0m \u001b[43m    \u001b[49m\u001b[43mEC\u001b[49m\u001b[38;5;241;43m.\u001b[39;49m\u001b[43mpresence_of_element_located\u001b[49m\u001b[43m(\u001b[49m\u001b[43m(\u001b[49m\u001b[43mBy\u001b[49m\u001b[38;5;241;43m.\u001b[39;49m\u001b[43mCSS_SELECTOR\u001b[49m\u001b[43m,\u001b[49m\u001b[43m \u001b[49m\u001b[38;5;124;43m\"\u001b[39;49m\u001b[38;5;124;43marticle[data-post-id]\u001b[39;49m\u001b[38;5;124;43m\"\u001b[39;49m\u001b[43m)\u001b[49m\u001b[43m)\u001b[49m\n\u001b[1;32m     11\u001b[0m \u001b[43m)\u001b[49m\n\u001b[1;32m     12\u001b[0m time\u001b[38;5;241m.\u001b[39msleep(\u001b[38;5;241m3\u001b[39m)\n\u001b[1;32m     14\u001b[0m posts \u001b[38;5;241m=\u001b[39m driver\u001b[38;5;241m.\u001b[39mfind_elements(By\u001b[38;5;241m.\u001b[39mCSS_SELECTOR, \u001b[38;5;124m\"\u001b[39m\u001b[38;5;124marticle[data-post-id]\u001b[39m\u001b[38;5;124m\"\u001b[39m)\n",
      "File \u001b[0;32m~/Data4380/.venv/lib/python3.9/site-packages/selenium/webdriver/support/wait.py:138\u001b[0m, in \u001b[0;36mWebDriverWait.until\u001b[0;34m(self, method, message)\u001b[0m\n\u001b[1;32m    136\u001b[0m         \u001b[38;5;28;01mbreak\u001b[39;00m\n\u001b[1;32m    137\u001b[0m     time\u001b[38;5;241m.\u001b[39msleep(\u001b[38;5;28mself\u001b[39m\u001b[38;5;241m.\u001b[39m_poll)\n\u001b[0;32m--> 138\u001b[0m \u001b[38;5;28;01mraise\u001b[39;00m TimeoutException(message, screen, stacktrace)\n",
      "\u001b[0;31mTimeoutException\u001b[0m: Message: \nStacktrace:\n0   chromedriver                        0x0000000100af755c cxxbridge1$str$ptr + 2731064\n1   chromedriver                        0x0000000100aef454 cxxbridge1$str$ptr + 2698032\n2   chromedriver                        0x000000010063e3f8 cxxbridge1$string$len + 90664\n3   chromedriver                        0x000000010068571c cxxbridge1$string$len + 382284\n4   chromedriver                        0x00000001006c6b1c cxxbridge1$string$len + 649548\n5   chromedriver                        0x0000000100679a0c cxxbridge1$string$len + 333884\n6   chromedriver                        0x0000000100aba5e0 cxxbridge1$str$ptr + 2481340\n7   chromedriver                        0x0000000100abd848 cxxbridge1$str$ptr + 2494244\n8   chromedriver                        0x0000000100a9b234 cxxbridge1$str$ptr + 2353424\n9   chromedriver                        0x0000000100abe104 cxxbridge1$str$ptr + 2496480\n10  chromedriver                        0x0000000100a8c2e4 cxxbridge1$str$ptr + 2292160\n11  chromedriver                        0x0000000100addff8 cxxbridge1$str$ptr + 2627284\n12  chromedriver                        0x0000000100ade184 cxxbridge1$str$ptr + 2627680\n13  chromedriver                        0x0000000100aef090 cxxbridge1$str$ptr + 2697068\n14  libsystem_pthread.dylib             0x0000000191615f94 _pthread_start + 136\n15  libsystem_pthread.dylib             0x0000000191610d34 thread_start + 8\n"
     ]
    }
   ],
   "source": [
    "options = Options()\n",
    "#options.add_argument(\"--headless=new\")\n",
    "options.add_argument(\"--no-sandbox\")\n",
    "options.add_argument(\"--disable-dev-shm-usage\")\n",
    "driver = webdriver.Chrome(options=options)\n",
    "\n",
    "driver.get(\"https://www.watchuseek.com/threads/a-review-of-a-new-oceaneva-deep-marine-explorer-vi.5635925/\")\n",
    "\n",
    "#javascript load time\n",
    "WebDriverWait(driver, 10).until(\n",
    "    EC.presence_of_element_located((By.CSS_SELECTOR, \"article[data-post-id]\"))\n",
    ")\n",
    "time.sleep(3)\n",
    "\n",
    "#only main post (review)\n",
    "posts = driver.find_elements(By.CSS_SELECTOR, \"article[data-post-id]\")\n",
    "print(\"Posts found:\", len(posts))\n",
    "\n",
    "first_post = posts[0]\n",
    "body = first_post.find_element(By.CSS_SELECTOR, \"div.bbWrapper\")\n",
    "review = body.text.strip()\n",
    "print(\"Review:\", review[:500])\n"
   ]
  },
  {
   "cell_type": "code",
   "execution_count": 4,
   "metadata": {},
   "outputs": [
    {
     "name": "stdout",
     "output_type": "stream",
     "text": [
      "No cookie popup detected\n",
      "Posts found: 0\n"
     ]
    },
    {
     "ename": "IndexError",
     "evalue": "list index out of range",
     "output_type": "error",
     "traceback": [
      "\u001b[0;31m---------------------------------------------------------------------------\u001b[0m",
      "\u001b[0;31mIndexError\u001b[0m                                Traceback (most recent call last)",
      "Cell \u001b[0;32mIn[4], line 38\u001b[0m\n\u001b[1;32m     35\u001b[0m posts \u001b[38;5;241m=\u001b[39m driver\u001b[38;5;241m.\u001b[39mfind_elements(By\u001b[38;5;241m.\u001b[39mCSS_SELECTOR, \u001b[38;5;124m\"\u001b[39m\u001b[38;5;124marticle[data-post-id]\u001b[39m\u001b[38;5;124m\"\u001b[39m)\n\u001b[1;32m     36\u001b[0m \u001b[38;5;28mprint\u001b[39m(\u001b[38;5;124m\"\u001b[39m\u001b[38;5;124mPosts found:\u001b[39m\u001b[38;5;124m\"\u001b[39m, \u001b[38;5;28mlen\u001b[39m(posts))\n\u001b[0;32m---> 38\u001b[0m first_post \u001b[38;5;241m=\u001b[39m \u001b[43mposts\u001b[49m\u001b[43m[\u001b[49m\u001b[38;5;241;43m0\u001b[39;49m\u001b[43m]\u001b[49m\n\u001b[1;32m     39\u001b[0m body \u001b[38;5;241m=\u001b[39m first_post\u001b[38;5;241m.\u001b[39mfind_element(By\u001b[38;5;241m.\u001b[39mCSS_SELECTOR, \u001b[38;5;124m\"\u001b[39m\u001b[38;5;124mdiv.bbWrapper\u001b[39m\u001b[38;5;124m\"\u001b[39m)\n\u001b[1;32m     40\u001b[0m review \u001b[38;5;241m=\u001b[39m body\u001b[38;5;241m.\u001b[39mtext\u001b[38;5;241m.\u001b[39mstrip()\n",
      "\u001b[0;31mIndexError\u001b[0m: list index out of range"
     ]
    }
   ],
   "source": [
    "options = Options()\n",
    "#options.add_argument(\"--headless=new\")\n",
    "driver = webdriver.Chrome(options=options)\n",
    "\n",
    "driver.get(\"https://www.watchuseek.com/threads/a-review-of-a-new-oceaneva-deep-marine-explorer-vi.5635925/\")\n",
    "\n",
    "#javascript load time\n",
    "WebDriverWait(driver, 20).until(\n",
    "    EC.presence_of_element_located((By.CSS_SELECTOR, \"div.bbWrapper\"))\n",
    ")\n",
    "time.sleep(3)\n",
    "\n",
    "#saving page\n",
    "driver.save_screenshot(\"debug_screens/thread_test.png\")\n",
    "\n",
    "#only main post (review)\n",
    "posts = driver.find_elements(By.CSS_SELECTOR, \"article[data-post-id]\")\n",
    "print(\"Posts found:\", len(posts))\n",
    "\n",
    "first_post = posts[0]\n",
    "body = first_post.find_element(By.CSS_SELECTOR, \"div.bbWrapper\")\n",
    "review = body.text.strip()\n",
    "print(\"Review:\", review[:500])\n",
    "\n",
    "driver.quit()\n"
   ]
  },
  {
   "cell_type": "markdown",
   "metadata": {},
   "source": [
    "* 0 posts so nothing in first position of list\n",
    "* testing for cookie settings popup (not seen visually on the website but just in case)"
   ]
  },
  {
   "cell_type": "code",
   "execution_count": 6,
   "metadata": {},
   "outputs": [
    {
     "name": "stdout",
     "output_type": "stream",
     "text": [
      "No cookie popup detected\n"
     ]
    },
    {
     "ename": "TimeoutException",
     "evalue": "Message: \nStacktrace:\n0   chromedriver                        0x000000010304f55c cxxbridge1$str$ptr + 2731064\n1   chromedriver                        0x0000000103047454 cxxbridge1$str$ptr + 2698032\n2   chromedriver                        0x0000000102b963f8 cxxbridge1$string$len + 90664\n3   chromedriver                        0x0000000102bdd71c cxxbridge1$string$len + 382284\n4   chromedriver                        0x0000000102c1eb1c cxxbridge1$string$len + 649548\n5   chromedriver                        0x0000000102bd1a0c cxxbridge1$string$len + 333884\n6   chromedriver                        0x00000001030125e0 cxxbridge1$str$ptr + 2481340\n7   chromedriver                        0x0000000103015848 cxxbridge1$str$ptr + 2494244\n8   chromedriver                        0x0000000102ff3234 cxxbridge1$str$ptr + 2353424\n9   chromedriver                        0x0000000103016104 cxxbridge1$str$ptr + 2496480\n10  chromedriver                        0x0000000102fe42e4 cxxbridge1$str$ptr + 2292160\n11  chromedriver                        0x0000000103035ff8 cxxbridge1$str$ptr + 2627284\n12  chromedriver                        0x0000000103036184 cxxbridge1$str$ptr + 2627680\n13  chromedriver                        0x0000000103047090 cxxbridge1$str$ptr + 2697068\n14  libsystem_pthread.dylib             0x0000000191615f94 _pthread_start + 136\n15  libsystem_pthread.dylib             0x0000000191610d34 thread_start + 8\n",
     "output_type": "error",
     "traceback": [
      "\u001b[0;31m---------------------------------------------------------------------------\u001b[0m",
      "\u001b[0;31mTimeoutException\u001b[0m                          Traceback (most recent call last)",
      "Cell \u001b[0;32mIn[6], line 29\u001b[0m\n\u001b[1;32m     26\u001b[0m     \u001b[38;5;28mprint\u001b[39m(\u001b[38;5;124m\"\u001b[39m\u001b[38;5;124mNo cookie popup detected\u001b[39m\u001b[38;5;124m\"\u001b[39m)\n\u001b[1;32m     28\u001b[0m \u001b[38;5;66;03m# Wait until actual review post content is loaded\u001b[39;00m\n\u001b[0;32m---> 29\u001b[0m \u001b[43mWebDriverWait\u001b[49m\u001b[43m(\u001b[49m\u001b[43mdriver\u001b[49m\u001b[43m,\u001b[49m\u001b[43m \u001b[49m\u001b[38;5;241;43m20\u001b[39;49m\u001b[43m)\u001b[49m\u001b[38;5;241;43m.\u001b[39;49m\u001b[43muntil\u001b[49m\u001b[43m(\u001b[49m\n\u001b[1;32m     30\u001b[0m \u001b[43m    \u001b[49m\u001b[43mEC\u001b[49m\u001b[38;5;241;43m.\u001b[39;49m\u001b[43mpresence_of_element_located\u001b[49m\u001b[43m(\u001b[49m\u001b[43m(\u001b[49m\u001b[43mBy\u001b[49m\u001b[38;5;241;43m.\u001b[39;49m\u001b[43mCSS_SELECTOR\u001b[49m\u001b[43m,\u001b[49m\u001b[43m \u001b[49m\u001b[38;5;124;43m\"\u001b[39;49m\u001b[38;5;124;43marticle[data-content=\u001b[39;49m\u001b[38;5;124;43m'\u001b[39;49m\u001b[38;5;124;43mpost\u001b[39;49m\u001b[38;5;124;43m'\u001b[39;49m\u001b[38;5;124;43m] div.bbWrapper\u001b[39;49m\u001b[38;5;124;43m\"\u001b[39;49m\u001b[43m)\u001b[49m\u001b[43m)\u001b[49m\n\u001b[1;32m     31\u001b[0m \u001b[43m)\u001b[49m\n\u001b[1;32m     32\u001b[0m time\u001b[38;5;241m.\u001b[39msleep(\u001b[38;5;241m1\u001b[39m)\n\u001b[1;32m     34\u001b[0m driver\u001b[38;5;241m.\u001b[39msave_screenshot(\u001b[38;5;124m\"\u001b[39m\u001b[38;5;124mdebug_screens/thread_rendered.png\u001b[39m\u001b[38;5;124m\"\u001b[39m)\n",
      "File \u001b[0;32m~/Data4380/.venv/lib/python3.9/site-packages/selenium/webdriver/support/wait.py:138\u001b[0m, in \u001b[0;36mWebDriverWait.until\u001b[0;34m(self, method, message)\u001b[0m\n\u001b[1;32m    136\u001b[0m         \u001b[38;5;28;01mbreak\u001b[39;00m\n\u001b[1;32m    137\u001b[0m     time\u001b[38;5;241m.\u001b[39msleep(\u001b[38;5;28mself\u001b[39m\u001b[38;5;241m.\u001b[39m_poll)\n\u001b[0;32m--> 138\u001b[0m \u001b[38;5;28;01mraise\u001b[39;00m TimeoutException(message, screen, stacktrace)\n",
      "\u001b[0;31mTimeoutException\u001b[0m: Message: \nStacktrace:\n0   chromedriver                        0x000000010304f55c cxxbridge1$str$ptr + 2731064\n1   chromedriver                        0x0000000103047454 cxxbridge1$str$ptr + 2698032\n2   chromedriver                        0x0000000102b963f8 cxxbridge1$string$len + 90664\n3   chromedriver                        0x0000000102bdd71c cxxbridge1$string$len + 382284\n4   chromedriver                        0x0000000102c1eb1c cxxbridge1$string$len + 649548\n5   chromedriver                        0x0000000102bd1a0c cxxbridge1$string$len + 333884\n6   chromedriver                        0x00000001030125e0 cxxbridge1$str$ptr + 2481340\n7   chromedriver                        0x0000000103015848 cxxbridge1$str$ptr + 2494244\n8   chromedriver                        0x0000000102ff3234 cxxbridge1$str$ptr + 2353424\n9   chromedriver                        0x0000000103016104 cxxbridge1$str$ptr + 2496480\n10  chromedriver                        0x0000000102fe42e4 cxxbridge1$str$ptr + 2292160\n11  chromedriver                        0x0000000103035ff8 cxxbridge1$str$ptr + 2627284\n12  chromedriver                        0x0000000103036184 cxxbridge1$str$ptr + 2627680\n13  chromedriver                        0x0000000103047090 cxxbridge1$str$ptr + 2697068\n14  libsystem_pthread.dylib             0x0000000191615f94 _pthread_start + 136\n15  libsystem_pthread.dylib             0x0000000191610d34 thread_start + 8\n"
     ]
    }
   ],
   "source": [
    "options = Options()\n",
    "#options.add_argument(\"--headless=new\")\n",
    "driver = webdriver.Chrome(options=options)\n",
    "\n",
    "os.makedirs(\"debug_screens\", exist_ok=True)\n",
    "\n",
    "driver.get(\"https://www.watchuseek.com/threads/a-review-of-a-new-oceaneva-deep-marine-explorer-vi.5635925/\")\n",
    "\n",
    "#javascript load time\n",
    "WebDriverWait(driver, 20).until(\n",
    "    EC.presence_of_element_located((By.CSS_SELECTOR, \"article[data-content='post'] div.bbWrapper\"))\n",
    ")\n",
    "time.sleep(1)\n",
    "\n",
    "driver.save_screenshot(\"debug_screens/thread_rendered.png\")\n",
    "\n",
    "posts = driver.find_elements(By.CSS_SELECTOR, \"article[data-content='post']\")\n",
    "print(\"Post articles found:\", len(posts))\n",
    "\n",
    "first_post = posts[0]\n",
    "body = first_post.find_element(By.CSS_SELECTOR, \"div.bbWrapper\")\n",
    "review = body.text.strip()\n",
    "print(\"Extracted review:\", review[:300])\n",
    "\n",
    "driver.quit()\n"
   ]
  },
  {
   "cell_type": "code",
   "execution_count": 7,
   "metadata": {},
   "outputs": [],
   "source": [
    "#chromedriver\n",
    "options = webdriver.ChromeOptions()\n",
    "driver = webdriver.Chrome(options=options)\n",
    "\n",
    "url = \"https://www.watchuseek.com/threads/a-review-of-a-new-oceaneva-deep-marine-explorer-vi.5635925/\"\n",
    "driver.get(url)\n",
    "time.sleep(5)\n",
    "\n",
    "#saving page\n",
    "with open(\"thread_debug.html\", \"w\", encoding=\"utf-8\") as f:\n",
    "    f.write(driver.page_source)\n",
    "\n",
    "driver.save_screenshot(\"thread_debug.png\")\n",
    "driver.quit()\n"
   ]
  },
  {
   "cell_type": "code",
   "execution_count": 11,
   "metadata": {},
   "outputs": [
    {
     "name": "stdout",
     "output_type": "stream",
     "text": [
      "Review:\n",
      " \n"
     ]
    }
   ],
   "source": [
    "#testing to see if timeouts/not finding body text is because of bot detection\n",
    "options = uc.ChromeOptions()\n",
    "options.add_argument(\"--start-maximized\")\n",
    "\n",
    "driver = uc.Chrome(options=options)\n",
    "\n",
    "url = \"https://www.watchuseek.com/threads/a-review-of-a-new-oceaneva-deep-marine-explorer-vi.5635925/\"\n",
    "driver.get(url)\n",
    "\n",
    "#javascript load time\n",
    "WebDriverWait(driver, 15).until(\n",
    "    EC.presence_of_element_located((By.CSS_SELECTOR, \"div.bbWrapper\"))\n",
    ")\n",
    "time.sleep(2)\n",
    "\n",
    "with open(\"page_source.html\", \"w\", encoding=\"utf-8\") as f:\n",
    "    f.write(driver.page_source)\n",
    "\n",
    "# Grab review\n",
    "body = driver.find_element(By.CSS_SELECTOR, \"div.bbWrapper\")\n",
    "print(\"Review:\\n\", body.text.strip())\n",
    "\n",
    "driver.quit()\n"
   ]
  },
  {
   "cell_type": "markdown",
   "metadata": {},
   "source": [
    "* need better understanding of html and the chromedriver\n",
    "* inspection of the review thread (in normal browser and the browser opened by the driver) show the body text as class bbWrapper, unsure why it is not getting picked up by the driver as it tries to scrape\n",
    "* will work more on feasibility when I have time over the week, will update with new notebooks"
   ]
  },
  {
   "cell_type": "code",
   "execution_count": null,
   "metadata": {},
   "outputs": [],
   "source": []
  }
 ],
 "metadata": {
  "kernelspec": {
   "display_name": ".venv",
   "language": "python",
   "name": "python3"
  },
  "language_info": {
   "codemirror_mode": {
    "name": "ipython",
    "version": 3
   },
   "file_extension": ".py",
   "mimetype": "text/x-python",
   "name": "python",
   "nbconvert_exporter": "python",
   "pygments_lexer": "ipython3",
   "version": "3.9.6"
  }
 },
 "nbformat": 4,
 "nbformat_minor": 2
}
