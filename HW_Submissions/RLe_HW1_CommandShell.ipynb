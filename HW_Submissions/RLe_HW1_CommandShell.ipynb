{
 "cells": [
  {
   "cell_type": "markdown",
   "metadata": {},
   "source": [
    "# Data4380 HW1 Command Shell"
   ]
  },
  {
   "cell_type": "markdown",
   "metadata": {},
   "source": [
    "### Exercise 1"
   ]
  },
  {
   "cell_type": "code",
   "execution_count": null,
   "metadata": {},
   "outputs": [],
   "source": [
    "#Current working directory = Data4380 (folder created for this class)\n",
    "#Make a new directory for the original zip files\n",
    "mkdir ZIPs\n",
    "\n",
    "#moving files to new ZIPs folder\n",
    "cd Kaggle_Datasets #folder where kaggle datasets where downloaded to during setup\n",
    "mv *.zip /Users/Temp/Data4380/ZIPs"
   ]
  },
  {
   "cell_type": "markdown",
   "metadata": {},
   "source": [
    "### Exercise 2"
   ]
  },
  {
   "cell_type": "code",
   "execution_count": null,
   "metadata": {},
   "outputs": [],
   "source": [
    "#Changing current working directory\n",
    "cd /Users/Temp/Data4380/ZIPs/\n",
    "\n",
    "#Creating the 3 files with column headers\n",
    "head -n 1 diabetes_prediction_dataset.csv > diabetes1.csv\n",
    "head -n 1 diabetes_prediction_dataset.csv > diabetes2.csv\n",
    "head -n 1 diabetes_prediction_dataset.csv > diabetes3.csv\n",
    "\n",
    "#finding number of lines\n",
    "wc -l diabetes_prediction_dataset.csv #output = 100001; 100000 lines excluding headers\n",
    "\n",
    "#lines per file; 1-> 33334, 2-> 33333, 3_. 33333\n",
    "#adding first 33334 lines to diabetes1.csv\n",
    "head -n 33335 diabetes_prediction_dataset.csv | tail -n 33334 >> diabetes1.csv\n",
    "\n",
    "#adding next 33333 lines to diabetes2.csv\n",
    "head -n 66668 diabetes_prediction_dataset.csv | tail -n 33333 >> diabetes2.csv\n",
    "\n",
    "#adding last 33333 lines to diabetes3.csv\n",
    "tail -n 33333 diabetes_prediction_dataset.csv >> diabetes3.csv"
   ]
  },
  {
   "cell_type": "markdown",
   "metadata": {},
   "source": [
    "### Exercise 3"
   ]
  },
  {
   "cell_type": "code",
   "execution_count": null,
   "metadata": {},
   "outputs": [],
   "source": [
    "#Creating files/ getting headers\n",
    "head -n 1 Heart_Disease_Prediction.csv > presence.csv\n",
    "head -n 1 Heart_Disease_Prediction.csv > absence.csv\n",
    "\n",
    "#Rows w/ 'Presence'\n",
    "grep 'Presence' Heart_Disease_Prediction.csv >> presence.csv \n",
    "\n",
    "#Rows w/ 'Absence'\n",
    "grep 'Absence' Heart_Disease_Prediction.csv >> absence.csv "
   ]
  },
  {
   "cell_type": "markdown",
   "metadata": {},
   "source": [
    "### Exercise 4"
   ]
  },
  {
   "cell_type": "code",
   "execution_count": null,
   "metadata": {},
   "outputs": [],
   "source": [
    "#finding total line count\n",
    "wc -l car_web_scraped_dataset.csv #output = 2841\n",
    "\n",
    "#number of 'no accidents'\n",
    "grep 'No accidents' car_web_scraped_dataset.csv | wc -l #output = 2223\n",
    "\n",
    "#fraction of cars that had no accidents = 2223/2841"
   ]
  },
  {
   "cell_type": "markdown",
   "metadata": {},
   "source": [
    "### Exercise 5"
   ]
  },
  {
   "cell_type": "code",
   "execution_count": null,
   "metadata": {},
   "outputs": [],
   "source": [
    "#encoding as specified\n",
    "sed 's/yes/1/g' Housing.csv | sed 's/no/0/g' | sed 's/unfurnished/0/g' | sed 's/,furnished/,1/g' | sed 's/semi-furnished/2/g' > hotencode_housing.csv"
   ]
  },
  {
   "cell_type": "markdown",
   "metadata": {},
   "source": [
    "### Exercise 6"
   ]
  },
  {
   "cell_type": "code",
   "execution_count": null,
   "metadata": {},
   "outputs": [],
   "source": [
    "#finding column number\n",
    "head -n 1 Mall_Customers.csv | tr ',' '\\n' | nl\n",
    "\n",
    "#output\n",
    "# 1\tCustomerID\n",
    "# 2\tGender\n",
    "# 3\tAge\n",
    "# 4\tAnnual Income (k$)\n",
    "# 5\tSpending Score (1-100)\n",
    "\n",
    "#removing 'CustomerID' column and creating a new csv\n",
    "cut -d ',' -f2- Mall_Customers.csv > cutMall.csv"
   ]
  },
  {
   "cell_type": "markdown",
   "metadata": {},
   "source": [
    "### Exercise 7"
   ]
  },
  {
   "cell_type": "code",
   "execution_count": null,
   "metadata": {},
   "outputs": [],
   "source": [
    "#Original csv file had issue with having commas within the 'ranking-institution-tile' column, causing issue with using ',' as delimiter\n",
    "#Cleaned the file to remove the commas in that column and then ran the following in terminal to complete the exercise\n",
    "\n",
    "#column numbers\n",
    "head -n 1 world\\ all\\ university\\ rank\\ and\\ rank\\ score.csv | tr ',' '\\n' | nl\n",
    "\n",
    "#output\n",
    "# 1\trank\n",
    "# 2\tranking-institution-title\n",
    "# 3\tlocation\n",
    "# 4\tOverall scores\n",
    "# 5\tResearch Quality Score\n",
    "# 6\tIndustry Score\n",
    "# 7\tInternational Outlook\n",
    "# 8\tResearch Environment Score\n",
    "# 9\tTeaching Score\n",
    "\n",
    "#summing rows\n",
    "tail -n +2 world\\ all\\ university\\ rank\\ and\\ rank\\ score.csv | cut -d ',' -f5-8 | tr ',' '+' | bc > sum_university.csv\n"
   ]
  },
  {
   "cell_type": "markdown",
   "metadata": {},
   "source": [
    "### Exercise 8"
   ]
  },
  {
   "cell_type": "code",
   "execution_count": null,
   "metadata": {},
   "outputs": [],
   "source": [
    "#column numbers\n",
    "head -n 1 cancer\\ patient\\ data\\ sets.csv | tr ',' '\\n' | nl\n",
    "\n",
    "#output\n",
    "# 1\tindex\n",
    "# 2\tPatient Id\n",
    "# 3\tAge\n",
    "# 4\tGender\n",
    "# 5\tAir Pollution\n",
    "# 6\tAlcohol use\n",
    "# 7\tDust Allergy\n",
    "# 8\tOccuPational Hazards\n",
    "# 9\tGenetic Risk\n",
    "# 10\tchronic Lung Disease\n",
    "# 11\tBalanced Diet\n",
    "# 12\tObesity\n",
    "# 13\tSmoking\n",
    "# 14\tPassive Smoker\n",
    "# 15\tChest Pain\n",
    "# 16\tCoughing of Blood\n",
    "# 17\tFatigue\n",
    "# 18\tWeight Loss\n",
    "# 19\tShortness of Breath\n",
    "# 20\tWheezing\n",
    "# 21\tSwallowing Difficulty\n",
    "# 22\tClubbing of Finger Nails\n",
    "# 23\tFrequent Cold\n",
    "# 24\tDry Cough\n",
    "# 25\tSnoring\n",
    "# 26\tLevel\n",
    "\n",
    "#adding headers to output file\n",
    "head -n 1 cancer\\ patient\\ data\\ sets.csv > age_sort_canceer.csv\n",
    "\n",
    "#sorting by age (column 3)\n",
    "tail -n +2 cancer\\ patient\\ data\\ sets.csv | sort -t ',' -k3 -n >> age_sort_canceer.csv "
   ]
  }
 ],
 "metadata": {
  "kernelspec": {
   "display_name": "Python 3",
   "language": "python",
   "name": "python3"
  },
  "language_info": {
   "codemirror_mode": {
    "name": "ipython",
    "version": 3
   },
   "file_extension": ".py",
   "mimetype": "text/x-python",
   "name": "python",
   "nbconvert_exporter": "python",
   "pygments_lexer": "ipython3",
   "version": "3.9.6"
  }
 },
 "nbformat": 4,
 "nbformat_minor": 2
}
